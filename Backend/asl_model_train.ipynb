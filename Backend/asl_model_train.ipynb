{
  "cells": [
    {
      "cell_type": "code",
      "execution_count": null,
      "metadata": {
        "id": "HHcIasYZX4Rt"
      },
      "outputs": [],
      "source": [
        "import tensorflow as tf\n",
        "from sklearn.model_selection import train_test_split\n",
        "from keras.utils import to_categorical\n",
        "from keras.models import Sequential\n",
        "from keras.layers import LSTM, Dense, Dropout, BatchNormalization\n",
        "from keras.callbacks import TensorBoard\n",
        "import keras\n",
        "from sklearn.metrics import multilabel_confusion_matrix, accuracy_score\n",
        "import numpy as np\n"
      ]
    },
    {
      "cell_type": "code",
      "execution_count": null,
      "metadata": {
        "colab": {
          "base_uri": "https://localhost:8080/"
        },
        "id": "ZyEIyLKXNyip",
        "outputId": "88929980-b732-47b2-c0ff-b6ccba066827"
      },
      "outputs": [
        {
          "name": "stdout",
          "output_type": "stream",
          "text": [
            "Mounted at /content/drive\n"
          ]
        }
      ],
      "source": [
        "from google.colab import drive\n",
        "drive.mount('/content/drive')"
      ]
    },
    {
      "cell_type": "code",
      "execution_count": null,
      "metadata": {
        "id": "zLgUepC7rCa2"
      },
      "outputs": [],
      "source": [
        "# code to read desired number of keypoint data instances based on classes or videos. 55 rows per video and 550 rows per class.\n",
        "\n",
        "start_limit = 11000\n",
        "end_limit = 16500\n",
        "\n",
        "X=np.load('/content/drive/MyDrive/60_classes.npy')\n",
        "X = X[start_limit:end_limit]\n",
        "\n",
        "Y=np.load('/content/drive/MyDrive/all_labels.npy')\n",
        "Y = Y[start_limit:end_limit]"
      ]
    },
    {
      "cell_type": "code",
      "execution_count": null,
      "metadata": {
        "id": "mUmGPfMZNp8i"
      },
      "outputs": [],
      "source": [
        "# code to skip over a few augmentations (optional)\n",
        "\n",
        "new_X = []\n",
        "new_Y = []\n",
        "\n",
        "i = 0\n",
        "while i < X.shape[0]:\n",
        "    for j in range(15):\n",
        "      # if j!=2 and j!=3 and j!=6 and j!=7:\n",
        "      #   new_X.append(X[i+j])\n",
        "      #   new_Y.append(Y[i+j])\n",
        "      new_X.append(X[i+j])\n",
        "      new_Y.append(Y[i+j])\n",
        "    i += 55\n",
        "\n",
        "X = np.array(new_X)\n",
        "Y = np.array(new_Y)"
      ]
    },
    {
      "cell_type": "code",
      "execution_count": null,
      "metadata": {
        "id": "ELy_zKVD2mKi"
      },
      "outputs": [],
      "source": [
        "# splitting and preparing data for training\n",
        "\n",
        "y = to_categorical(Y).astype(int)\n",
        "# y = y[:,:]\n",
        "print(y)\n",
        "X_train, X_test, y_train, y_test = train_test_split(X, y, test_size=0.05)\n",
        "print(X.shape)\n",
        "print(y.shape)\n"
      ]
    },
    {
      "cell_type": "code",
      "execution_count": null,
      "metadata": {
        "id": "B8r8wIHaM3Ia"
      },
      "outputs": [],
      "source": [
        "del X\n",
        "del Y"
      ]
    },
    {
      "cell_type": "code",
      "execution_count": null,
      "metadata": {
        "id": "IDUkKtY43_zT"
      },
      "outputs": [],
      "source": [
        "# model architecture\n",
        "\n",
        "model = Sequential()\n",
        "model.add(LSTM(128, return_sequences=True, activation='relu', input_shape=(50,258)))\n",
        "model.add(Dropout(0.2))\n",
        "model.add(LSTM(256, return_sequences=True, activation='relu'))\n",
        "model.add(Dropout(0.2))\n",
        "model.add(LSTM(256, return_sequences=False, activation='relu'))\n",
        "\n",
        "model.add(BatchNormalization())\n",
        "\n",
        "\n",
        "model.add(Dense(256, activation='relu'))\n",
        "model.add(Dense(128, activation='relu'))\n",
        "model.add(Dense(64, activation='relu'))\n",
        "\n",
        "model.add(Dense(10, activation='softmax'))\n",
        "model.summary()"
      ]
    },
    {
      "cell_type": "code",
      "execution_count": null,
      "metadata": {
        "colab": {
          "background_save": true
        },
        "id": "KPWDKhZ5__16"
      },
      "outputs": [],
      "source": [
        "# setting hyperparameters and training\n",
        "\n",
        "model.compile(optimizer='Adam', loss='categorical_crossentropy', metrics=['categorical_accuracy'])\n",
        "callback = tf.keras.callbacks.EarlyStopping(monitor='val_loss', patience=35, restore_best_weights=True)\n",
        "\n",
        "model.fit(X_train, y_train,validation_data=(X_test,y_test), epochs=600, callbacks=[callback],batch_size=64)"
      ]
    },
    {
      "cell_type": "code",
      "execution_count": null,
      "metadata": {
        "id": "BwvrurR8S1wu"
      },
      "outputs": [],
      "source": [
        "model.save('30C_50F_128B_5T_sorted4.h5')\n",
        "# del model, X_train, X_test, y_train, y_test"
      ]
    },
    {
      "cell_type": "code",
      "execution_count": null,
      "metadata": {
        "id": "W-090YgpWUO7"
      },
      "outputs": [],
      "source": [
        "# accuracy test\n",
        "\n",
        "yhat = model.predict(X_test)\n",
        "ytrue = np.argmax(y_test, axis=1).tolist()\n",
        "yhat = np.argmax(yhat, axis=1).tolist()\n",
        "multilabel_confusion_matrix(ytrue, yhat)"
      ]
    },
    {
      "cell_type": "code",
      "execution_count": null,
      "metadata": {
        "colab": {
          "base_uri": "https://localhost:8080/"
        },
        "id": "a6IlJi0sWkIT",
        "outputId": "a1216893-5125-48e0-c143-4cb54922c6fe"
      },
      "outputs": [
        {
          "data": {
            "text/plain": [
              "0.8444444444444444"
            ]
          },
          "execution_count": 13,
          "metadata": {},
          "output_type": "execute_result"
        }
      ],
      "source": [
        "accuracy_score(ytrue, yhat)"
      ]
    }
  ],
  "metadata": {
    "accelerator": "GPU",
    "colab": {
      "provenance": []
    },
    "gpuClass": "standard",
    "kernelspec": {
      "display_name": "Python 3",
      "language": "python",
      "name": "python3"
    },
    "language_info": {
      "codemirror_mode": {
        "name": "ipython",
        "version": 3
      },
      "file_extension": ".py",
      "mimetype": "text/x-python",
      "name": "python",
      "nbconvert_exporter": "python",
      "pygments_lexer": "ipython3",
      "version": "3.7.12"
    }
  },
  "nbformat": 4,
  "nbformat_minor": 0
}